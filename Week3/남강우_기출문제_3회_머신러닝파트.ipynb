{
 "cells": [
  {
   "cell_type": "code",
   "execution_count": 2,
   "metadata": {},
   "outputs": [],
   "source": [
    "import pandas as pd\n",
    "import numpy as np\n",
    "import matplotlib.pyplot as plt\n",
    "import seaborn as sns"
   ]
  },
  {
   "cell_type": "code",
   "execution_count": 3,
   "metadata": {},
   "outputs": [
    {
     "data": {
      "text/html": [
       "<div>\n",
       "<style scoped>\n",
       "    .dataframe tbody tr th:only-of-type {\n",
       "        vertical-align: middle;\n",
       "    }\n",
       "\n",
       "    .dataframe tbody tr th {\n",
       "        vertical-align: top;\n",
       "    }\n",
       "\n",
       "    .dataframe thead th {\n",
       "        text-align: right;\n",
       "    }\n",
       "</style>\n",
       "<table border=\"1\" class=\"dataframe\">\n",
       "  <thead>\n",
       "    <tr style=\"text-align: right;\">\n",
       "      <th></th>\n",
       "      <th>is_canceled</th>\n",
       "      <th>deposit_type</th>\n",
       "      <th>lead_time</th>\n",
       "      <th>stays_in_weekend_nights</th>\n",
       "      <th>stays_in_week_nights</th>\n",
       "      <th>is_repeated_guest</th>\n",
       "      <th>previous_cancellations</th>\n",
       "      <th>previous_bookings_not_canceled</th>\n",
       "      <th>booking_changes</th>\n",
       "      <th>days_in_waiting_list</th>\n",
       "      <th>adr</th>\n",
       "    </tr>\n",
       "  </thead>\n",
       "  <tbody>\n",
       "    <tr>\n",
       "      <td>0</td>\n",
       "      <td>0</td>\n",
       "      <td>No Deposit</td>\n",
       "      <td>105.0</td>\n",
       "      <td>2</td>\n",
       "      <td>5</td>\n",
       "      <td>NaN</td>\n",
       "      <td>0</td>\n",
       "      <td>0</td>\n",
       "      <td>1</td>\n",
       "      <td>0</td>\n",
       "      <td>131.50</td>\n",
       "    </tr>\n",
       "    <tr>\n",
       "      <td>1</td>\n",
       "      <td>0</td>\n",
       "      <td>No Deposit</td>\n",
       "      <td>303.0</td>\n",
       "      <td>2</td>\n",
       "      <td>2</td>\n",
       "      <td>NaN</td>\n",
       "      <td>0</td>\n",
       "      <td>0</td>\n",
       "      <td>0</td>\n",
       "      <td>0</td>\n",
       "      <td>73.95</td>\n",
       "    </tr>\n",
       "    <tr>\n",
       "      <td>2</td>\n",
       "      <td>0</td>\n",
       "      <td>No Deposit</td>\n",
       "      <td>33.0</td>\n",
       "      <td>2</td>\n",
       "      <td>3</td>\n",
       "      <td>0.0</td>\n",
       "      <td>0</td>\n",
       "      <td>0</td>\n",
       "      <td>0</td>\n",
       "      <td>0</td>\n",
       "      <td>NaN</td>\n",
       "    </tr>\n",
       "    <tr>\n",
       "      <td>3</td>\n",
       "      <td>0</td>\n",
       "      <td>No Deposit</td>\n",
       "      <td>48.0</td>\n",
       "      <td>0</td>\n",
       "      <td>1</td>\n",
       "      <td>0.0</td>\n",
       "      <td>0</td>\n",
       "      <td>0</td>\n",
       "      <td>1</td>\n",
       "      <td>0</td>\n",
       "      <td>80.30</td>\n",
       "    </tr>\n",
       "    <tr>\n",
       "      <td>4</td>\n",
       "      <td>0</td>\n",
       "      <td>No Deposit</td>\n",
       "      <td>216.0</td>\n",
       "      <td>4</td>\n",
       "      <td>7</td>\n",
       "      <td>0.0</td>\n",
       "      <td>0</td>\n",
       "      <td>0</td>\n",
       "      <td>2</td>\n",
       "      <td>0</td>\n",
       "      <td>60.90</td>\n",
       "    </tr>\n",
       "    <tr>\n",
       "      <td>...</td>\n",
       "      <td>...</td>\n",
       "      <td>...</td>\n",
       "      <td>...</td>\n",
       "      <td>...</td>\n",
       "      <td>...</td>\n",
       "      <td>...</td>\n",
       "      <td>...</td>\n",
       "      <td>...</td>\n",
       "      <td>...</td>\n",
       "      <td>...</td>\n",
       "      <td>...</td>\n",
       "    </tr>\n",
       "    <tr>\n",
       "      <td>19995</td>\n",
       "      <td>1</td>\n",
       "      <td>Non Refund</td>\n",
       "      <td>89.0</td>\n",
       "      <td>2</td>\n",
       "      <td>2</td>\n",
       "      <td>0.0</td>\n",
       "      <td>0</td>\n",
       "      <td>0</td>\n",
       "      <td>0</td>\n",
       "      <td>0</td>\n",
       "      <td>62.00</td>\n",
       "    </tr>\n",
       "    <tr>\n",
       "      <td>19996</td>\n",
       "      <td>1</td>\n",
       "      <td>Non Refund</td>\n",
       "      <td>101.0</td>\n",
       "      <td>0</td>\n",
       "      <td>3</td>\n",
       "      <td>0.0</td>\n",
       "      <td>0</td>\n",
       "      <td>0</td>\n",
       "      <td>0</td>\n",
       "      <td>0</td>\n",
       "      <td>130.00</td>\n",
       "    </tr>\n",
       "    <tr>\n",
       "      <td>19997</td>\n",
       "      <td>1</td>\n",
       "      <td>Non Refund</td>\n",
       "      <td>277.0</td>\n",
       "      <td>1</td>\n",
       "      <td>2</td>\n",
       "      <td>0.0</td>\n",
       "      <td>0</td>\n",
       "      <td>0</td>\n",
       "      <td>0</td>\n",
       "      <td>0</td>\n",
       "      <td>100.00</td>\n",
       "    </tr>\n",
       "    <tr>\n",
       "      <td>19998</td>\n",
       "      <td>1</td>\n",
       "      <td>No Deposit</td>\n",
       "      <td>0.0</td>\n",
       "      <td>0</td>\n",
       "      <td>1</td>\n",
       "      <td>0.0</td>\n",
       "      <td>0</td>\n",
       "      <td>0</td>\n",
       "      <td>0</td>\n",
       "      <td>0</td>\n",
       "      <td>209.00</td>\n",
       "    </tr>\n",
       "    <tr>\n",
       "      <td>19999</td>\n",
       "      <td>1</td>\n",
       "      <td>Non Refund</td>\n",
       "      <td>40.0</td>\n",
       "      <td>0</td>\n",
       "      <td>2</td>\n",
       "      <td>0.0</td>\n",
       "      <td>0</td>\n",
       "      <td>0</td>\n",
       "      <td>0</td>\n",
       "      <td>0</td>\n",
       "      <td>130.00</td>\n",
       "    </tr>\n",
       "  </tbody>\n",
       "</table>\n",
       "<p>20000 rows × 11 columns</p>\n",
       "</div>"
      ],
      "text/plain": [
       "       is_canceled deposit_type  lead_time  stays_in_weekend_nights  \\\n",
       "0                0   No Deposit      105.0                        2   \n",
       "1                0   No Deposit      303.0                        2   \n",
       "2                0   No Deposit       33.0                        2   \n",
       "3                0   No Deposit       48.0                        0   \n",
       "4                0   No Deposit      216.0                        4   \n",
       "...            ...          ...        ...                      ...   \n",
       "19995            1   Non Refund       89.0                        2   \n",
       "19996            1   Non Refund      101.0                        0   \n",
       "19997            1   Non Refund      277.0                        1   \n",
       "19998            1   No Deposit        0.0                        0   \n",
       "19999            1   Non Refund       40.0                        0   \n",
       "\n",
       "       stays_in_week_nights  is_repeated_guest  previous_cancellations  \\\n",
       "0                         5                NaN                       0   \n",
       "1                         2                NaN                       0   \n",
       "2                         3                0.0                       0   \n",
       "3                         1                0.0                       0   \n",
       "4                         7                0.0                       0   \n",
       "...                     ...                ...                     ...   \n",
       "19995                     2                0.0                       0   \n",
       "19996                     3                0.0                       0   \n",
       "19997                     2                0.0                       0   \n",
       "19998                     1                0.0                       0   \n",
       "19999                     2                0.0                       0   \n",
       "\n",
       "       previous_bookings_not_canceled  booking_changes  days_in_waiting_list  \\\n",
       "0                                   0                1                     0   \n",
       "1                                   0                0                     0   \n",
       "2                                   0                0                     0   \n",
       "3                                   0                1                     0   \n",
       "4                                   0                2                     0   \n",
       "...                               ...              ...                   ...   \n",
       "19995                               0                0                     0   \n",
       "19996                               0                0                     0   \n",
       "19997                               0                0                     0   \n",
       "19998                               0                0                     0   \n",
       "19999                               0                0                     0   \n",
       "\n",
       "          adr  \n",
       "0      131.50  \n",
       "1       73.95  \n",
       "2         NaN  \n",
       "3       80.30  \n",
       "4       60.90  \n",
       "...       ...  \n",
       "19995   62.00  \n",
       "19996  130.00  \n",
       "19997  100.00  \n",
       "19998  209.00  \n",
       "19999  130.00  \n",
       "\n",
       "[20000 rows x 11 columns]"
      ]
     },
     "execution_count": 3,
     "metadata": {},
     "output_type": "execute_result"
    }
   ],
   "source": [
    "df= pd.read_csv(\"https://raw.githubusercontent.com/ADPclass/ADP_book_ver01/main/data/hotel_bookings.csv\")\n",
    "df"
   ]
  },
  {
   "cell_type": "markdown",
   "metadata": {},
   "source": [
    "# 머신러닝(50점)\n",
    "\n",
    "## (1) 데이터를 탐색하고 탐색 결과를 제시하시오"
   ]
  },
  {
   "cell_type": "code",
   "execution_count": 4,
   "metadata": {},
   "outputs": [
    {
     "name": "stdout",
     "output_type": "stream",
     "text": [
      "<class 'pandas.core.frame.DataFrame'>\n",
      "RangeIndex: 20000 entries, 0 to 19999\n",
      "Data columns (total 11 columns):\n",
      "is_canceled                       20000 non-null int64\n",
      "deposit_type                      20000 non-null object\n",
      "lead_time                         19995 non-null float64\n",
      "stays_in_weekend_nights           20000 non-null int64\n",
      "stays_in_week_nights              20000 non-null int64\n",
      "is_repeated_guest                 19642 non-null float64\n",
      "previous_cancellations            20000 non-null int64\n",
      "previous_bookings_not_canceled    20000 non-null int64\n",
      "booking_changes                   20000 non-null int64\n",
      "days_in_waiting_list              20000 non-null int64\n",
      "adr                               18937 non-null float64\n",
      "dtypes: float64(3), int64(7), object(1)\n",
      "memory usage: 1.7+ MB\n"
     ]
    }
   ],
   "source": [
    "df.info()"
   ]
  },
  {
   "cell_type": "markdown",
   "metadata": {},
   "source": [
    "- lead_time, is_repeated_guest, adr 컬럼에 결측치 존재\n",
    "- deposit_type을 제외한 나머지 변수는 정수형"
   ]
  },
  {
   "cell_type": "code",
   "execution_count": 6,
   "metadata": {},
   "outputs": [
    {
     "data": {
      "text/html": [
       "<div>\n",
       "<style scoped>\n",
       "    .dataframe tbody tr th:only-of-type {\n",
       "        vertical-align: middle;\n",
       "    }\n",
       "\n",
       "    .dataframe tbody tr th {\n",
       "        vertical-align: top;\n",
       "    }\n",
       "\n",
       "    .dataframe thead th {\n",
       "        text-align: right;\n",
       "    }\n",
       "</style>\n",
       "<table border=\"1\" class=\"dataframe\">\n",
       "  <thead>\n",
       "    <tr style=\"text-align: right;\">\n",
       "      <th></th>\n",
       "      <th>is_canceled</th>\n",
       "      <th>deposit_type</th>\n",
       "      <th>lead_time</th>\n",
       "      <th>stays_in_weekend_nights</th>\n",
       "      <th>stays_in_week_nights</th>\n",
       "      <th>is_repeated_guest</th>\n",
       "      <th>previous_cancellations</th>\n",
       "      <th>previous_bookings_not_canceled</th>\n",
       "      <th>booking_changes</th>\n",
       "      <th>days_in_waiting_list</th>\n",
       "      <th>adr</th>\n",
       "    </tr>\n",
       "  </thead>\n",
       "  <tbody>\n",
       "    <tr>\n",
       "      <td>count</td>\n",
       "      <td>20000.00000</td>\n",
       "      <td>20000</td>\n",
       "      <td>19995.000000</td>\n",
       "      <td>20000.000000</td>\n",
       "      <td>20000.000000</td>\n",
       "      <td>19642.000000</td>\n",
       "      <td>20000.000000</td>\n",
       "      <td>20000.000000</td>\n",
       "      <td>20000.000000</td>\n",
       "      <td>20000.000000</td>\n",
       "      <td>18937.000000</td>\n",
       "    </tr>\n",
       "    <tr>\n",
       "      <td>unique</td>\n",
       "      <td>NaN</td>\n",
       "      <td>3</td>\n",
       "      <td>NaN</td>\n",
       "      <td>NaN</td>\n",
       "      <td>NaN</td>\n",
       "      <td>NaN</td>\n",
       "      <td>NaN</td>\n",
       "      <td>NaN</td>\n",
       "      <td>NaN</td>\n",
       "      <td>NaN</td>\n",
       "      <td>NaN</td>\n",
       "    </tr>\n",
       "    <tr>\n",
       "      <td>top</td>\n",
       "      <td>NaN</td>\n",
       "      <td>No Deposit</td>\n",
       "      <td>NaN</td>\n",
       "      <td>NaN</td>\n",
       "      <td>NaN</td>\n",
       "      <td>NaN</td>\n",
       "      <td>NaN</td>\n",
       "      <td>NaN</td>\n",
       "      <td>NaN</td>\n",
       "      <td>NaN</td>\n",
       "      <td>NaN</td>\n",
       "    </tr>\n",
       "    <tr>\n",
       "      <td>freq</td>\n",
       "      <td>NaN</td>\n",
       "      <td>19138</td>\n",
       "      <td>NaN</td>\n",
       "      <td>NaN</td>\n",
       "      <td>NaN</td>\n",
       "      <td>NaN</td>\n",
       "      <td>NaN</td>\n",
       "      <td>NaN</td>\n",
       "      <td>NaN</td>\n",
       "      <td>NaN</td>\n",
       "      <td>NaN</td>\n",
       "    </tr>\n",
       "    <tr>\n",
       "      <td>mean</td>\n",
       "      <td>0.12000</td>\n",
       "      <td>NaN</td>\n",
       "      <td>85.978345</td>\n",
       "      <td>0.892550</td>\n",
       "      <td>2.380400</td>\n",
       "      <td>0.038133</td>\n",
       "      <td>0.032900</td>\n",
       "      <td>0.169050</td>\n",
       "      <td>0.269400</td>\n",
       "      <td>1.983950</td>\n",
       "      <td>101.410239</td>\n",
       "    </tr>\n",
       "    <tr>\n",
       "      <td>std</td>\n",
       "      <td>0.32497</td>\n",
       "      <td>NaN</td>\n",
       "      <td>96.427240</td>\n",
       "      <td>0.952077</td>\n",
       "      <td>1.777345</td>\n",
       "      <td>0.191521</td>\n",
       "      <td>0.455552</td>\n",
       "      <td>1.502426</td>\n",
       "      <td>0.687566</td>\n",
       "      <td>15.927212</td>\n",
       "      <td>49.245097</td>\n",
       "    </tr>\n",
       "    <tr>\n",
       "      <td>min</td>\n",
       "      <td>0.00000</td>\n",
       "      <td>NaN</td>\n",
       "      <td>0.000000</td>\n",
       "      <td>0.000000</td>\n",
       "      <td>0.000000</td>\n",
       "      <td>0.000000</td>\n",
       "      <td>0.000000</td>\n",
       "      <td>0.000000</td>\n",
       "      <td>0.000000</td>\n",
       "      <td>0.000000</td>\n",
       "      <td>-6.380000</td>\n",
       "    </tr>\n",
       "    <tr>\n",
       "      <td>25%</td>\n",
       "      <td>0.00000</td>\n",
       "      <td>NaN</td>\n",
       "      <td>11.000000</td>\n",
       "      <td>0.000000</td>\n",
       "      <td>1.000000</td>\n",
       "      <td>0.000000</td>\n",
       "      <td>0.000000</td>\n",
       "      <td>0.000000</td>\n",
       "      <td>0.000000</td>\n",
       "      <td>0.000000</td>\n",
       "      <td>68.800000</td>\n",
       "    </tr>\n",
       "    <tr>\n",
       "      <td>50%</td>\n",
       "      <td>0.00000</td>\n",
       "      <td>NaN</td>\n",
       "      <td>51.000000</td>\n",
       "      <td>1.000000</td>\n",
       "      <td>2.000000</td>\n",
       "      <td>0.000000</td>\n",
       "      <td>0.000000</td>\n",
       "      <td>0.000000</td>\n",
       "      <td>0.000000</td>\n",
       "      <td>0.000000</td>\n",
       "      <td>94.500000</td>\n",
       "    </tr>\n",
       "    <tr>\n",
       "      <td>75%</td>\n",
       "      <td>0.00000</td>\n",
       "      <td>NaN</td>\n",
       "      <td>132.000000</td>\n",
       "      <td>2.000000</td>\n",
       "      <td>3.000000</td>\n",
       "      <td>0.000000</td>\n",
       "      <td>0.000000</td>\n",
       "      <td>0.000000</td>\n",
       "      <td>0.000000</td>\n",
       "      <td>0.000000</td>\n",
       "      <td>126.000000</td>\n",
       "    </tr>\n",
       "    <tr>\n",
       "      <td>max</td>\n",
       "      <td>1.00000</td>\n",
       "      <td>NaN</td>\n",
       "      <td>629.000000</td>\n",
       "      <td>13.000000</td>\n",
       "      <td>30.000000</td>\n",
       "      <td>1.000000</td>\n",
       "      <td>26.000000</td>\n",
       "      <td>66.000000</td>\n",
       "      <td>17.000000</td>\n",
       "      <td>379.000000</td>\n",
       "      <td>451.500000</td>\n",
       "    </tr>\n",
       "  </tbody>\n",
       "</table>\n",
       "</div>"
      ],
      "text/plain": [
       "        is_canceled deposit_type     lead_time  stays_in_weekend_nights  \\\n",
       "count   20000.00000        20000  19995.000000             20000.000000   \n",
       "unique          NaN            3           NaN                      NaN   \n",
       "top             NaN   No Deposit           NaN                      NaN   \n",
       "freq            NaN        19138           NaN                      NaN   \n",
       "mean        0.12000          NaN     85.978345                 0.892550   \n",
       "std         0.32497          NaN     96.427240                 0.952077   \n",
       "min         0.00000          NaN      0.000000                 0.000000   \n",
       "25%         0.00000          NaN     11.000000                 0.000000   \n",
       "50%         0.00000          NaN     51.000000                 1.000000   \n",
       "75%         0.00000          NaN    132.000000                 2.000000   \n",
       "max         1.00000          NaN    629.000000                13.000000   \n",
       "\n",
       "        stays_in_week_nights  is_repeated_guest  previous_cancellations  \\\n",
       "count           20000.000000       19642.000000            20000.000000   \n",
       "unique                   NaN                NaN                     NaN   \n",
       "top                      NaN                NaN                     NaN   \n",
       "freq                     NaN                NaN                     NaN   \n",
       "mean                2.380400           0.038133                0.032900   \n",
       "std                 1.777345           0.191521                0.455552   \n",
       "min                 0.000000           0.000000                0.000000   \n",
       "25%                 1.000000           0.000000                0.000000   \n",
       "50%                 2.000000           0.000000                0.000000   \n",
       "75%                 3.000000           0.000000                0.000000   \n",
       "max                30.000000           1.000000               26.000000   \n",
       "\n",
       "        previous_bookings_not_canceled  booking_changes  days_in_waiting_list  \\\n",
       "count                     20000.000000     20000.000000          20000.000000   \n",
       "unique                             NaN              NaN                   NaN   \n",
       "top                                NaN              NaN                   NaN   \n",
       "freq                               NaN              NaN                   NaN   \n",
       "mean                          0.169050         0.269400              1.983950   \n",
       "std                           1.502426         0.687566             15.927212   \n",
       "min                           0.000000         0.000000              0.000000   \n",
       "25%                           0.000000         0.000000              0.000000   \n",
       "50%                           0.000000         0.000000              0.000000   \n",
       "75%                           0.000000         0.000000              0.000000   \n",
       "max                          66.000000        17.000000            379.000000   \n",
       "\n",
       "                 adr  \n",
       "count   18937.000000  \n",
       "unique           NaN  \n",
       "top              NaN  \n",
       "freq             NaN  \n",
       "mean      101.410239  \n",
       "std        49.245097  \n",
       "min        -6.380000  \n",
       "25%        68.800000  \n",
       "50%        94.500000  \n",
       "75%       126.000000  \n",
       "max       451.500000  "
      ]
     },
     "execution_count": 6,
     "metadata": {},
     "output_type": "execute_result"
    }
   ],
   "source": [
    "df.describe(include='all')"
   ]
  },
  {
   "cell_type": "code",
   "execution_count": 20,
   "metadata": {
    "scrolled": false
   },
   "outputs": [
    {
     "data": {
      "text/plain": [
       "0    0.88\n",
       "1    0.12\n",
       "Name: is_canceled, dtype: float64"
      ]
     },
     "execution_count": 20,
     "metadata": {},
     "output_type": "execute_result"
    }
   ],
   "source": [
    "df['is_canceled'].value_counts(normalize=True)"
   ]
  },
  {
   "cell_type": "markdown",
   "metadata": {},
   "source": [
    "종속변수는 이진분류형이며, 비율이 88:12로 뷸균형이다"
   ]
  },
  {
   "cell_type": "code",
   "execution_count": 35,
   "metadata": {
    "scrolled": false
   },
   "outputs": [
    {
     "data": {
      "text/html": [
       "<div>\n",
       "<style scoped>\n",
       "    .dataframe tbody tr th:only-of-type {\n",
       "        vertical-align: middle;\n",
       "    }\n",
       "\n",
       "    .dataframe tbody tr th {\n",
       "        vertical-align: top;\n",
       "    }\n",
       "\n",
       "    .dataframe thead th {\n",
       "        text-align: right;\n",
       "    }\n",
       "</style>\n",
       "<table border=\"1\" class=\"dataframe\">\n",
       "  <thead>\n",
       "    <tr style=\"text-align: right;\">\n",
       "      <th></th>\n",
       "      <th>is_canceled</th>\n",
       "      <th>lead_time</th>\n",
       "      <th>stays_in_weekend_nights</th>\n",
       "      <th>stays_in_week_nights</th>\n",
       "      <th>is_repeated_guest</th>\n",
       "      <th>previous_cancellations</th>\n",
       "      <th>previous_bookings_not_canceled</th>\n",
       "      <th>booking_changes</th>\n",
       "      <th>days_in_waiting_list</th>\n",
       "      <th>adr</th>\n",
       "    </tr>\n",
       "    <tr>\n",
       "      <th>is_canceled</th>\n",
       "      <th></th>\n",
       "      <th></th>\n",
       "      <th></th>\n",
       "      <th></th>\n",
       "      <th></th>\n",
       "      <th></th>\n",
       "      <th></th>\n",
       "      <th></th>\n",
       "      <th></th>\n",
       "      <th></th>\n",
       "    </tr>\n",
       "  </thead>\n",
       "  <tbody>\n",
       "    <tr>\n",
       "      <td>0</td>\n",
       "      <td>0.0</td>\n",
       "      <td>78.420290</td>\n",
       "      <td>0.888750</td>\n",
       "      <td>2.361080</td>\n",
       "      <td>0.041481</td>\n",
       "      <td>0.013068</td>\n",
       "      <td>0.189886</td>\n",
       "      <td>0.293409</td>\n",
       "      <td>1.737443</td>\n",
       "      <td>101.034845</td>\n",
       "    </tr>\n",
       "    <tr>\n",
       "      <td>1</td>\n",
       "      <td>1.0</td>\n",
       "      <td>141.388333</td>\n",
       "      <td>0.920417</td>\n",
       "      <td>2.522083</td>\n",
       "      <td>0.013577</td>\n",
       "      <td>0.178333</td>\n",
       "      <td>0.016250</td>\n",
       "      <td>0.093333</td>\n",
       "      <td>3.791667</td>\n",
       "      <td>104.162354</td>\n",
       "    </tr>\n",
       "  </tbody>\n",
       "</table>\n",
       "</div>"
      ],
      "text/plain": [
       "             is_canceled   lead_time  stays_in_weekend_nights  \\\n",
       "is_canceled                                                     \n",
       "0                    0.0   78.420290                 0.888750   \n",
       "1                    1.0  141.388333                 0.920417   \n",
       "\n",
       "             stays_in_week_nights  is_repeated_guest  previous_cancellations  \\\n",
       "is_canceled                                                                    \n",
       "0                        2.361080           0.041481                0.013068   \n",
       "1                        2.522083           0.013577                0.178333   \n",
       "\n",
       "             previous_bookings_not_canceled  booking_changes  \\\n",
       "is_canceled                                                    \n",
       "0                                  0.189886         0.293409   \n",
       "1                                  0.016250         0.093333   \n",
       "\n",
       "             days_in_waiting_list         adr  \n",
       "is_canceled                                    \n",
       "0                        1.737443  101.034845  \n",
       "1                        3.791667  104.162354  "
      ]
     },
     "execution_count": 35,
     "metadata": {},
     "output_type": "execute_result"
    }
   ],
   "source": [
    "df.groupby('is_canceled').apply(lambda x:x.mean())"
   ]
  },
  {
   "cell_type": "markdown",
   "metadata": {},
   "source": [
    "종속변수에 따라 leatime 값이 2배 이상 차이남"
   ]
  },
  {
   "cell_type": "code",
   "execution_count": 38,
   "metadata": {},
   "outputs": [
    {
     "data": {
      "text/plain": [
       "<matplotlib.axes._subplots.AxesSubplot at 0x2829a6a0048>"
      ]
     },
     "execution_count": 38,
     "metadata": {},
     "output_type": "execute_result"
    },
    {
     "data": {
      "image/png": "[encoded data removed]",
      "text/plain": [
       "<Figure size 1440x720 with 1 Axes>"
      ]
     },
     "metadata": {
      "needs_background": "light"
     },
     "output_type": "display_data"
    }
   ],
   "source": [
    "plt.figure(figsize=(20,10))\n",
    "sns.boxplot(data=df)"
   ]
  },
  {
   "cell_type": "markdown",
   "metadata": {},
   "source": [
    "이상치가 존재하는 변수들이 많음"
   ]
  },
  {
   "cell_type": "markdown",
   "metadata": {},
   "source": [
    "## (2) 결측치를 탐색하고 대체 방법 및 근거를 제시하시오."
   ]
  },
  {
   "cell_type": "code",
   "execution_count": 44,
   "metadata": {
    "scrolled": true
   },
   "outputs": [
    {
     "data": {
      "text/plain": [
       "is_canceled                          0\n",
       "deposit_type                         0\n",
       "lead_time                            5\n",
       "stays_in_weekend_nights              0\n",
       "stays_in_week_nights                 0\n",
       "is_repeated_guest                  358\n",
       "previous_cancellations               0\n",
       "previous_bookings_not_canceled       0\n",
       "booking_changes                      0\n",
       "days_in_waiting_list                 0\n",
       "adr                               1063\n",
       "dtype: int64"
      ]
     },
     "execution_count": 44,
     "metadata": {},
     "output_type": "execute_result"
    }
   ],
   "source": [
    "df.isna().sum()"
   ]
  },
  {
   "cell_type": "markdown",
   "metadata": {},
   "source": [
    "결측치를 가진 독립변수는 lead_time / is_repeated_guest / adr"
   ]
  },
  {
   "cell_type": "code",
   "execution_count": 46,
   "metadata": {
    "scrolled": true
   },
   "outputs": [
    {
     "data": {
      "image/png": "[encoded data removed]",
      "text/plain": [
       "<Figure size 432x288 with 1 Axes>"
      ]
     },
     "metadata": {
      "needs_background": "light"
     },
     "output_type": "display_data"
    }
   ],
   "source": [
    "plt.hist('lead_time',bins=10,range=(df['lead_time'].min(),df['lead_time'].max()),data=df)\n",
    "plt.show()"
   ]
  },
  {
   "cell_type": "code",
   "execution_count": 29,
   "metadata": {},
   "outputs": [
    {
     "data": {
      "image/png": "[encoded data removed]",
      "text/plain": [
       "<Figure size 432x288 with 1 Axes>"
      ]
     },
     "metadata": {
      "needs_background": "light"
     },
     "output_type": "display_data"
    }
   ],
   "source": [
    "plt.hist('is_repeated_guest',bins=6,range=(df['is_repeated_guest'].min(),df['is_repeated_guest'].max()),data=df)\n",
    "plt.show()"
   ]
  },
  {
   "cell_type": "code",
   "execution_count": 30,
   "metadata": {},
   "outputs": [
    {
     "data": {
      "text/plain": [
       "0.0    18893\n",
       "1.0      749\n",
       "Name: is_repeated_guest, dtype: int64"
      ]
     },
     "execution_count": 30,
     "metadata": {},
     "output_type": "execute_result"
    }
   ],
   "source": [
    "df['is_repeated_guest'].value_counts()"
   ]
  },
  {
   "cell_type": "code",
   "execution_count": 47,
   "metadata": {},
   "outputs": [
    {
     "data": {
      "image/png": "[encoded data removed]",
      "text/plain": [
       "<Figure size 432x288 with 1 Axes>"
      ]
     },
     "metadata": {
      "needs_background": "light"
     },
     "output_type": "display_data"
    }
   ],
   "source": [
    "plt.hist('adr',bins=10,range=(df['adr'].min(),df['adr'].max()),data=df)\n",
    "plt.show()"
   ]
  },
  {
   "cell_type": "markdown",
   "metadata": {},
   "source": [
    "결측치 제거 방법\n",
    "\n",
    "- lead_time의 경우 5개밖에 없기 때문에 행 제거진행\n",
    "- is_repeated_guest의 경우 이진범주형 변수이기 떄문에 최빈값으로 대치\n",
    "- adr의 경우 정규분포의 모양을 띄는 수치형 변수이므로 평균으로 대치"
   ]
  },
  {
   "cell_type": "code",
   "execution_count": 52,
   "metadata": {},
   "outputs": [
    {
     "data": {
      "text/plain": [
       "(19995, 11)"
      ]
     },
     "execution_count": 52,
     "metadata": {},
     "output_type": "execute_result"
    }
   ],
   "source": [
    "df = df.dropna(subset=['lead_time'])\n",
    "df.shape"
   ]
  },
  {
   "cell_type": "markdown",
   "metadata": {},
   "source": [
    "5개 제거 확인 (20000 -> 19995)"
   ]
  },
  {
   "cell_type": "code",
   "execution_count": 53,
   "metadata": {},
   "outputs": [],
   "source": [
    "df['is_repeated_guest'] =df['is_repeated_guest'].fillna(df['is_repeated_guest'].mode()[0])\n"
   ]
  },
  {
   "cell_type": "code",
   "execution_count": 54,
   "metadata": {},
   "outputs": [],
   "source": [
    "df['adr'] = df['adr'].fillna(df['adr'].mean())"
   ]
  },
  {
   "cell_type": "code",
   "execution_count": 55,
   "metadata": {},
   "outputs": [
    {
     "data": {
      "text/plain": [
       "is_canceled                       0\n",
       "deposit_type                      0\n",
       "lead_time                         0\n",
       "stays_in_weekend_nights           0\n",
       "stays_in_week_nights              0\n",
       "is_repeated_guest                 0\n",
       "previous_cancellations            0\n",
       "previous_bookings_not_canceled    0\n",
       "booking_changes                   0\n",
       "days_in_waiting_list              0\n",
       "adr                               0\n",
       "dtype: int64"
      ]
     },
     "execution_count": 55,
     "metadata": {},
     "output_type": "execute_result"
    }
   ],
   "source": [
    "df.isna().sum()"
   ]
  },
  {
   "cell_type": "markdown",
   "metadata": {},
   "source": [
    "결측치 제거 확인"
   ]
  },
  {
   "cell_type": "markdown",
   "metadata": {},
   "source": [
    "## (3) 데이터 질을 향상시킬 수 있는 방법을 제안하시오"
   ]
  },
  {
   "cell_type": "markdown",
   "metadata": {},
   "source": [
    "1. boxplot으로 그려보았을 때 이상치로 보이는 데이터들이 꽤 있었다. 해당 데이터들을 제거함으로써 데이터 질을 향상시킬 수 있다\n",
    "\n",
    "2. 로지스틱 회귀분석 또는 SVM을 이용해 종속변수를 예측하려고 하는 경우, 변수 Scaling을 적용하여 데이터 질을 향상시킬 수 있다\n",
    "\n",
    "3. 종속변수가 뷸균형한 상태이기 때문에 샘플링기법을 이용해 뷸균형을 맞춰준다"
   ]
  },
  {
   "cell_type": "markdown",
   "metadata": {},
   "source": [
    "## (4) 데이터 뷸균형을 시각화하여 식별하고 뷸균형 판단근거를 작성하시오"
   ]
  },
  {
   "cell_type": "code",
   "execution_count": 60,
   "metadata": {},
   "outputs": [],
   "source": [
    "value_count = df['is_canceled'].value_counts()"
   ]
  },
  {
   "cell_type": "code",
   "execution_count": 61,
   "metadata": {},
   "outputs": [
    {
     "data": {
      "text/plain": [
       "<matplotlib.axes._subplots.AxesSubplot at 0x282a04843c8>"
      ]
     },
     "execution_count": 61,
     "metadata": {},
     "output_type": "execute_result"
    },
    {
     "data": {
      "image/png": "[encoded data removed]",
      "text/plain": [
       "<Figure size 432x288 with 1 Axes>"
      ]
     },
     "metadata": {
      "needs_background": "light"
     },
     "output_type": "display_data"
    }
   ],
   "source": [
    "sns.barplot(value_count.index, value_count.values)"
   ]
  },
  {
   "cell_type": "code",
   "execution_count": 62,
   "metadata": {},
   "outputs": [
    {
     "data": {
      "text/plain": [
       "0    17595\n",
       "1     2400\n",
       "Name: is_canceled, dtype: int64"
      ]
     },
     "execution_count": 62,
     "metadata": {},
     "output_type": "execute_result"
    }
   ],
   "source": [
    "value_count"
   ]
  },
  {
   "cell_type": "markdown",
   "metadata": {},
   "source": [
    "그래프 및 Out[59] 에서 알 수 있듯이, 종속변수 값인 0과 1의 비율이 약 88:12로 뷸균형을 띄고있다"
   ]
  },
  {
   "cell_type": "markdown",
   "metadata": {},
   "source": [
    "## (5) 오버 샘플링 기법을 설명하고 비교한 뒤 2개 기법을 선정하고 근거를 제시하시오"
   ]
  },
  {
   "cell_type": "markdown",
   "metadata": {},
   "source": [
    "오버 샘플링은 빈도가 상대적으로 적은 클래스 데이터를 더 생성하여 불균형을 해소하는 방법이다. 소수 클래스의 샘플을 합성하거나 복제하여 소수 클래스의 데이터 특성이 드러나게 함으로써 정보의 보존효과를 얻을 수 있다는 장점이 있다. 하지만 소수 클래스의 샘플을 과도하게 증가시켰을 때 과적합을 유발시킬 수 있으며, 샘플이 증가함에 따라 학습시 계산 비용이 증가한다는 단점이 있다."
   ]
  },
  {
   "cell_type": "markdown",
   "metadata": {},
   "source": [
    "1. Random Oversampling\n",
    "\n",
    " - 소수 데이터를 무작위로 선택해 복사하는 방법\n",
    "\n",
    " - 쉽고 빠르다는 장점이 있지만, 기존의 데이터를 그대로 사용하는 것이기 때문에 과적합이 일어날 수 있음. \n",
    "\n",
    "\n",
    "\n",
    "2. SMOTE\n",
    "\n",
    " - 학습 데이터의 minority class의 정보를 활용해서 KNN기반으로 새로운 데이터 샘플을 생성하는 방법. \n",
    "\n",
    "[동작 방식]  \n",
    "1.임의로 minority class 샘플 하나를 선택한다. \n",
    "\n",
    "2. minority class 중에서 해당 관측치와 유사도가 가장 큰 관측치 K 개를 선택한다. \n",
    "\n",
    "3. 관측치들 간의 직선의 거리(difference)를 계산한다. \n",
    "\n",
    "4. 랜덤하게 선택된 0~1 사이의 값을 곱한다 \n",
    "\n",
    "5. 이를 이용해서 직선 위에서 새로운 data point를 생성한다. \n",
    "\n",
    "\n",
    "* Random OverSampling에 비해서 추가적인 계산이 필요해 시간이 좀 더 소요되지만 과적합을 피해 좀 더 좋은 일반화 성능을 낼 수 있음"
   ]
  },
  {
   "cell_type": "markdown",
   "metadata": {},
   "source": [
    "## (6) 기법을 선정한 이유를 작성하고, 원데이터를 포함해 3개의 데이터 세트를 구성하시오"
   ]
  },
  {
   "cell_type": "markdown",
   "metadata": {},
   "source": [
    "각 방법이 각각의 장점을 가지고 있어 선정함"
   ]
  },
  {
   "cell_type": "code",
   "execution_count": 66,
   "metadata": {},
   "outputs": [],
   "source": [
    "from imblearn.over_sampling import RandomOverSampler, SMOTE"
   ]
  },
  {
   "cell_type": "code",
   "execution_count": 86,
   "metadata": {},
   "outputs": [
    {
     "data": {
      "text/plain": [
       "((19995, 12), (19995,))"
      ]
     },
     "execution_count": 86,
     "metadata": {},
     "output_type": "execute_result"
    }
   ],
   "source": [
    "X = df.drop(columns=['is_canceled'])\n",
    "Y = df['is_canceled']\n",
    "\n",
    "X = pd.get_dummies(X)\n",
    "X.shape, Y.shape"
   ]
  },
  {
   "cell_type": "code",
   "execution_count": 87,
   "metadata": {},
   "outputs": [
    {
     "data": {
      "text/plain": [
       "((35190, 12), (35190,))"
      ]
     },
     "execution_count": 87,
     "metadata": {},
     "output_type": "execute_result"
    }
   ],
   "source": [
    "## Random OverSampling 데이터셋\n",
    "\n",
    "ros_x, ros_y = RandomOverSampler(random_state=2024).fit_resample(X,Y)\n",
    "ros_x.shape, ros_y.shape"
   ]
  },
  {
   "cell_type": "code",
   "execution_count": 88,
   "metadata": {},
   "outputs": [
    {
     "data": {
      "text/plain": [
       "1    17595\n",
       "0    17595\n",
       "dtype: int64"
      ]
     },
     "execution_count": 88,
     "metadata": {},
     "output_type": "execute_result"
    }
   ],
   "source": [
    "pd.Series(ros_y).value_counts()"
   ]
  },
  {
   "cell_type": "code",
   "execution_count": 89,
   "metadata": {},
   "outputs": [
    {
     "data": {
      "text/plain": [
       "((35190, 12), (35190,))"
      ]
     },
     "execution_count": 89,
     "metadata": {},
     "output_type": "execute_result"
    }
   ],
   "source": [
    "## SMOTE 데이터셋\n",
    "\n",
    "smote_x, smote_y = SMOTE(random_state=2024).fit_resample(X,Y)\n",
    "smote_x.shape, smote_y.shape"
   ]
  },
  {
   "cell_type": "code",
   "execution_count": 90,
   "metadata": {},
   "outputs": [
    {
     "data": {
      "text/plain": [
       "1    17595\n",
       "0    17595\n",
       "dtype: int64"
      ]
     },
     "execution_count": 90,
     "metadata": {},
     "output_type": "execute_result"
    }
   ],
   "source": [
    "pd.Series(smote_y).value_counts()"
   ]
  },
  {
   "cell_type": "markdown",
   "metadata": {},
   "source": [
    "## (7) 오버샘플링 데이터와 원데이터를 사용해 정확도 측면 모델 하나와 속도 측면의 모델 하나를 선정하고 그 이유를 설명하시오"
   ]
  },
  {
   "cell_type": "code",
   "execution_count": 91,
   "metadata": {},
   "outputs": [],
   "source": [
    "from sklearn.metrics import accuracy_score, roc_auc_score, f1_score"
   ]
  },
  {
   "cell_type": "code",
   "execution_count": 92,
   "metadata": {},
   "outputs": [],
   "source": [
    "from sklearn.tree import DecisionTreeClassifier\n",
    "from sklearn.model_selection import train_test_split"
   ]
  },
  {
   "cell_type": "code",
   "execution_count": 93,
   "metadata": {},
   "outputs": [],
   "source": [
    "##수행속도 측정을 위함\n",
    "\n",
    "import time"
   ]
  },
  {
   "cell_type": "code",
   "execution_count": 94,
   "metadata": {},
   "outputs": [],
   "source": [
    "X_list = [X,ros_x, smote_x]\n",
    "Y_list = [Y, ros_y, smote_y]\n",
    "Model_list = ['Original', 'Random OverSampling','SMOTE']\n"
   ]
  },
  {
   "cell_type": "code",
   "execution_count": 101,
   "metadata": {
    "scrolled": true
   },
   "outputs": [
    {
     "name": "stdout",
     "output_type": "stream",
     "text": [
      "Original\n",
      "0.8672168042010503\n",
      "0.16538000106811523\n",
      "Random OverSampling\n",
      "0.9475703324808185\n",
      "0.2767448425292969\n",
      "SMOTE\n",
      "0.9231315714691674\n",
      "0.3052079677581787\n"
     ]
    }
   ],
   "source": [
    "accuracy_score_list = []\n",
    "f1_score_list = []\n",
    "roc_auc_score_list = []\n",
    "duration_list = []\n",
    "\n",
    "for i in range(0,3):\n",
    "    ts = time.time()\n",
    "    x_train, x_test, y_train, y_test = train_test_split(X_list[i], Y_list[i], test_size=0.2, random_state=2024)\n",
    "    clf = DecisionTreeClassifier(random_state=2024).fit(x_train, y_train)\n",
    "    te = time.time()\n",
    "    print(Model_list[i])\n",
    "    print(accuracy_score(y_test, clf.predict(x_test)))\n",
    "    accuracy_score_list.append(accuracy_score(y_test, clf.predict(x_test)))\n",
    "    f1_score_list.append(f1_score(y_test, clf.predict(x_test)))\n",
    "    roc_auc_score_list.append(roc_auc_score(y_test, clf.predict(x_test)))\n",
    "    duration = te - ts\n",
    "    print(duration)\n",
    "    duration_list.append(duration)"
   ]
  },
  {
   "cell_type": "code",
   "execution_count": 112,
   "metadata": {},
   "outputs": [
    {
     "data": {
      "image/png": "[encoded data removed]",
      "text/plain": [
       "<Figure size 432x288 with 1 Axes>"
      ]
     },
     "metadata": {
      "needs_background": "light"
     },
     "output_type": "display_data"
    }
   ],
   "source": [
    "plt.title(\"Accuracy Score\")\n",
    "sns.barplot(Model_list, accuracy_score_list)\n",
    "plt.show()"
   ]
  },
  {
   "cell_type": "code",
   "execution_count": 114,
   "metadata": {},
   "outputs": [
    {
     "data": {
      "text/plain": [
       "[0.8672168042010503, 0.9475703324808185, 0.9231315714691674]"
      ]
     },
     "execution_count": 114,
     "metadata": {},
     "output_type": "execute_result"
    }
   ],
   "source": [
    "accuracy_score_list"
   ]
  },
  {
   "cell_type": "code",
   "execution_count": 113,
   "metadata": {},
   "outputs": [
    {
     "data": {
      "image/png": "[encoded data removed]",
      "text/plain": [
       "<Figure size 432x288 with 1 Axes>"
      ]
     },
     "metadata": {
      "needs_background": "light"
     },
     "output_type": "display_data"
    }
   ],
   "source": [
    "plt.title(\"F1 Score\")\n",
    "sns.barplot(Model_list, f1_score_list)\n",
    "plt.show()"
   ]
  },
  {
   "cell_type": "code",
   "execution_count": 115,
   "metadata": {},
   "outputs": [
    {
     "data": {
      "text/plain": [
       "[0.4620060790273556, 0.9498164014687883, 0.9229234933751248]"
      ]
     },
     "execution_count": 115,
     "metadata": {},
     "output_type": "execute_result"
    }
   ],
   "source": [
    "f1_score_list"
   ]
  },
  {
   "cell_type": "code",
   "execution_count": 116,
   "metadata": {},
   "outputs": [
    {
     "data": {
      "image/png": "[encoded data removed]",
      "text/plain": [
       "<Figure size 432x288 with 1 Axes>"
      ]
     },
     "metadata": {
      "needs_background": "light"
     },
     "output_type": "display_data"
    }
   ],
   "source": [
    "plt.title(\"ROC AUC Score\")\n",
    "sns.barplot(Model_list, roc_auc_score_list)\n",
    "plt.show()"
   ]
  },
  {
   "cell_type": "code",
   "execution_count": 117,
   "metadata": {},
   "outputs": [
    {
     "data": {
      "text/plain": [
       "[0.6946672958942898, 0.9475960759267459, 0.9231303353363712]"
      ]
     },
     "execution_count": 117,
     "metadata": {},
     "output_type": "execute_result"
    }
   ],
   "source": [
    "roc_auc_score_list"
   ]
  },
  {
   "cell_type": "markdown",
   "metadata": {},
   "source": [
    "정확도 측정결과, Randome OverSampling > SMOTE > Original 순으로 좋았다"
   ]
  },
  {
   "cell_type": "code",
   "execution_count": 118,
   "metadata": {},
   "outputs": [
    {
     "data": {
      "image/png": "[encoded data removed]",
      "text/plain": [
       "<Figure size 432x288 with 1 Axes>"
      ]
     },
     "metadata": {
      "needs_background": "light"
     },
     "output_type": "display_data"
    }
   ],
   "source": [
    "plt.title(\"Duration\")\n",
    "sns.barplot(Model_list, duration_list)\n",
    "plt.show()"
   ]
  },
  {
   "cell_type": "code",
   "execution_count": 119,
   "metadata": {},
   "outputs": [
    {
     "data": {
      "text/plain": [
       "[0.16538000106811523, 0.2767448425292969, 0.3052079677581787]"
      ]
     },
     "execution_count": 119,
     "metadata": {},
     "output_type": "execute_result"
    }
   ],
   "source": [
    "duration_list"
   ]
  },
  {
   "cell_type": "markdown",
   "metadata": {},
   "source": [
    "속도 측정결과, Original -> Random OverSampling -> SMOTE 순으로 빨랐다"
   ]
  },
  {
   "cell_type": "markdown",
   "metadata": {},
   "source": [
    "결과적으로, 속도와 정확도 모두 Randome OverSampling이 SMOTE보다 더 좋은 성능을 보였다"
   ]
  },
  {
   "cell_type": "markdown",
   "metadata": {},
   "source": [
    "## (8) 원데이터와 오버 샘플링 데이터를 가지고 각각 분류한 결과를 바탕으로, 오버 샘플링이 성능에 미친 영향에 대해 작성하시오"
   ]
  },
  {
   "cell_type": "markdown",
   "metadata": {},
   "source": [
    "(7)의 수행결과를 보면 원본데이터 대비 오버샘플링을 사용한 두 모델이 정확도, F1 SCORE, AUC_ROC_SCORE 등 모든 분류모델 평가지표에서 매우 우수한 성능을 보였다. 이는 오버샘플링을 사용했을 떄 더 좋은 모델을 만들수 있다는 것을 의미한다.\n",
    "\n",
    "\n",
    "특히, fraud detection, 질병 예측, 신용불량자 예측, 기기 고장 예측, spam detection 같은  use case에서는 minority class를 정확하게 예측하는 것이 더 중요하다. 하지만 대부분의 데이터에는 majority class의 샘플이 훨씬 많다. "
   ]
  },
  {
   "cell_type": "code",
   "execution_count": null,
   "metadata": {},
   "outputs": [],
   "source": []
  }
 ],
 "metadata": {
  "kernelspec": {
   "display_name": "Python 3",
   "language": "python",
   "name": "python3"
  },
  "language_info": {
   "codemirror_mode": {
    "name": "ipython",
    "version": 3
   },
   "file_extension": ".py",
   "mimetype": "text/x-python",
   "name": "python",
   "nbconvert_exporter": "python",
   "pygments_lexer": "ipython3",
   "version": "3.7.4"
  }
 },
 "nbformat": 4,
 "nbformat_minor": 2
}
