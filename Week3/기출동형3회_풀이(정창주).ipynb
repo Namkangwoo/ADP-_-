{
  "nbformat": 4,
  "nbformat_minor": 0,
  "metadata": {
    "colab": {
      "provenance": []
    },
    "kernelspec": {
      "name": "python3",
      "display_name": "Python 3"
    },
    "language_info": {
      "name": "python"
    }
  },
  "cells": [
    {
      "cell_type": "markdown",
      "source": [
        "기출동형 3회"
      ],
      "metadata": {
        "id": "1UZJj7rwhC1X"
      }
    },
    {
      "cell_type": "markdown",
      "source": [
        "데이터: 객실 사용 여부 관련 데이터\n",
        "\n",
        "(1) 데이터를 탐색하고 탐색 결과를 제시하시오.\n",
        "\n",
        "(2) 결측치를 탐색하고 대체 방법 및 근거를 제시하시오.\n",
        "\n",
        "(3) 데이터 질을 향상시킬 수 있는 방법을 제안하시오.\n",
        "\n",
        "(4) 데이터 불균형을 시각화하여 식별하고 불균형 판단근거를 작성하시오.\n",
        "\n",
        "(5) 오버 샘플링 기법을 설명하고 비교한 뒤 2개 기법을 선정하고 근거를 제시하시오.\n",
        "\n",
        "(6) 기법을 선정한 이유를 작성하고, 원데이터를 포함해 3개의 데이터 세트를 구성하시오.\n",
        "\n",
        "(7) 오버 샘플링 데이터와 원데이터를 사용해 정확도 측면 모델 하나와 속도 측면의 모델 하나를 선정하고, 그 이유를 설명하시오.\n",
        "\n",
        "(8) 원데이터와 오버 샘플링 데이터를 가지고 각각 분류한 결과를 바탕으로, 오버 샘플링이 성능에 미친 영향에 대해 작성하시오."
      ],
      "metadata": {
        "id": "8Dsvi90RhSRs"
      }
    },
    {
      "cell_type": "code",
      "execution_count": 3,
      "metadata": {
        "colab": {
          "base_uri": "https://localhost:8080/"
        },
        "id": "Nvt8p5ZfhBsS",
        "outputId": "84550cd5-a44b-4701-d2d8-3c3c3221ed3b"
      },
      "outputs": [
        {
          "output_type": "stream",
          "name": "stdout",
          "text": [
            "is_canceled                          0\n",
            "deposit_type                         0\n",
            "lead_time                            5\n",
            "stays_in_weekend_nights              0\n",
            "stays_in_week_nights                 0\n",
            "is_repeated_guest                  358\n",
            "previous_cancellations               0\n",
            "previous_bookings_not_canceled       0\n",
            "booking_changes                      0\n",
            "days_in_waiting_list                 0\n",
            "adr                               1063\n",
            "dtype: int64\n",
            "<class 'pandas.core.frame.DataFrame'>\n",
            "RangeIndex: 20000 entries, 0 to 19999\n",
            "Data columns (total 11 columns):\n",
            " #   Column                          Non-Null Count  Dtype  \n",
            "---  ------                          --------------  -----  \n",
            " 0   is_canceled                     20000 non-null  int64  \n",
            " 1   deposit_type                    20000 non-null  object \n",
            " 2   lead_time                       19995 non-null  float64\n",
            " 3   stays_in_weekend_nights         20000 non-null  int64  \n",
            " 4   stays_in_week_nights            20000 non-null  int64  \n",
            " 5   is_repeated_guest               19642 non-null  float64\n",
            " 6   previous_cancellations          20000 non-null  int64  \n",
            " 7   previous_bookings_not_canceled  20000 non-null  int64  \n",
            " 8   booking_changes                 20000 non-null  int64  \n",
            " 9   days_in_waiting_list            20000 non-null  int64  \n",
            " 10  adr                             18937 non-null  float64\n",
            "dtypes: float64(3), int64(7), object(1)\n",
            "memory usage: 1.7+ MB\n",
            "None\n"
          ]
        }
      ],
      "source": [
        "# (1)데이터를 탐색하고 탐색결과를 제시하시오\n",
        "import pandas as pd\n",
        "import numpy as np\n",
        "hotel = pd.read_csv('https://raw.githubusercontent.com/ADPclass/ADP_book_ver01/main/data/hotel_bookings.csv')\n",
        "print(hotel.isnull().sum())\n",
        "print(hotel.info())"
      ]
    },
    {
      "cell_type": "code",
      "source": [
        "hotel.deposit_type.describe()"
      ],
      "metadata": {
        "colab": {
          "base_uri": "https://localhost:8080/"
        },
        "id": "qjNIMypFhbe0",
        "outputId": "5bd2d72a-3fee-4582-9615-b2973f50cb1e"
      },
      "execution_count": 4,
      "outputs": [
        {
          "output_type": "execute_result",
          "data": {
            "text/plain": [
              "count          20000\n",
              "unique             3\n",
              "top       No Deposit\n",
              "freq           19138\n",
              "Name: deposit_type, dtype: object"
            ]
          },
          "metadata": {},
          "execution_count": 4
        }
      ]
    },
    {
      "cell_type": "code",
      "source": [
        "hotel.groupby(hotel['deposit_type']).mean()['adr']"
      ],
      "metadata": {
        "colab": {
          "base_uri": "https://localhost:8080/"
        },
        "id": "Xz1lHo9Shyvt",
        "outputId": "b164440a-a9c3-41aa-f1a6-3c1b27227e96"
      },
      "execution_count": 5,
      "outputs": [
        {
          "output_type": "execute_result",
          "data": {
            "text/plain": [
              "deposit_type\n",
              "No Deposit    101.965190\n",
              "Non Refund     89.689476\n",
              "Refundable     67.456154\n",
              "Name: adr, dtype: float64"
            ]
          },
          "metadata": {},
          "execution_count": 5
        }
      ]
    },
    {
      "cell_type": "markdown",
      "source": [
        "①결측치 존재 여부\n",
        "-> 데이터 탐색 결과, hotel_bookings에는 결측치가 있는 변수는 3개이며, 결측치의 개수는 총 1,426개이다.\n",
        "\n",
        "결측치가 존재하는 변수들은 비율과 분포에 따라 각각 다른 결측치 대체 방식을 사용할 수 있을 것으로 보인다.\n",
        "\n",
        "②데이터 타입 설명\n",
        "종속변수는 int형, 독립변수는 object와 int, float형태로 구성되어 있다.\n",
        "object타입은 인코딩을 통하여 변환해줄 필요가 있어 보인다.\n",
        "\n",
        "③ 종속변수 특징\n",
        "oject형 데이터로 구성된 deposit_type 변수는 20,000개 관측치 중 19, 171개의 관측치가 'No Deposit'에 해당한다.\n",
        "\n",
        "또한 deposit_type별 adr 평균이 다르게 나타났는데, No Deposit의 평균 adr은 약 101, Non Refund의 평균 adr은 약 90, Refundable의 평균 adr은 약 69이다."
      ],
      "metadata": {
        "id": "A6F01ChViHDr"
      }
    },
    {
      "cell_type": "code",
      "source": [
        "# (2) 결측치를 탐색하고 대체 방법 및 근거를 제시하시오.\n",
        "\n",
        "hotel.isnull().sum()"
      ],
      "metadata": {
        "colab": {
          "base_uri": "https://localhost:8080/"
        },
        "id": "fjkPo3RcilIK",
        "outputId": "5b2bee41-75e5-45c1-f016-8164bc569397"
      },
      "execution_count": 6,
      "outputs": [
        {
          "output_type": "execute_result",
          "data": {
            "text/plain": [
              "is_canceled                          0\n",
              "deposit_type                         0\n",
              "lead_time                            5\n",
              "stays_in_weekend_nights              0\n",
              "stays_in_week_nights                 0\n",
              "is_repeated_guest                  358\n",
              "previous_cancellations               0\n",
              "previous_bookings_not_canceled       0\n",
              "booking_changes                      0\n",
              "days_in_waiting_list                 0\n",
              "adr                               1063\n",
              "dtype: int64"
            ]
          },
          "metadata": {},
          "execution_count": 6
        }
      ]
    },
    {
      "cell_type": "code",
      "source": [
        "# 결측치 비율 확인\n",
        "print('lead time 결측치 비율 %'.format(round(5/len(hotel)*100, 2)))\n",
        "print('is repeated guest 결측치 비율: %'.format(round(360/len(hotel)*100, 2)))\n",
        "print('adr 결측치 비율: %'.format(round(1051/len(hotel)*100, 2)))"
      ],
      "metadata": {
        "colab": {
          "base_uri": "https://localhost:8080/"
        },
        "id": "A7P7zgLyioBW",
        "outputId": "51530d14-f9dc-4776-ae7a-471736856b41"
      },
      "execution_count": 9,
      "outputs": [
        {
          "output_type": "stream",
          "name": "stdout",
          "text": [
            "lead time 결측치 비율 %\n",
            "is repeated guest 결측치 비율: %\n",
            "adr 결측치 비율: %\n"
          ]
        }
      ]
    },
    {
      "cell_type": "code",
      "source": [
        "hotel_nonull=hotel\n",
        "## lead time 변수의 결측치는 1%가 되지 않음 -> 제거한다\n",
        "hotel_nonull.dropna(subset=['lead_time'], axis =0, inplace =True)\n",
        "\n",
        "## is_repeated_guest 변수는 binary이기 때문에 최빈값으로 대체한다\n",
        "hotel_nonull['is_repeated_guest'] = hotel_nonull['is_repeated_guest'].fillna (0)\n",
        "\n",
        "##adr 변수는 연속형 변수이기 때문에 평균대치법을 사용한다.\n",
        "##다만, 보증금 유형에 따라 adr이 다르기 때문에\n",
        "##adr그룹별 평균을 이용해 결측값을 대체한다.\n",
        "fill_mean_func = lambda g: g.fillna(g.mean())\n",
        "hotel_nonull=hotel_nonull.groupby('deposit_type').apply(fill_mean_func)\n",
        "\n",
        "hotel_nonull.index =hotel_nonull.index.droplevel (0)\n",
        "hotel_nonull.sort_index(inplace=True)\n",
        "\n",
        "hotel_nonull.isna().sum()"
      ],
      "metadata": {
        "colab": {
          "base_uri": "https://localhost:8080/"
        },
        "id": "Hbt3BXhejAJN",
        "outputId": "a42d7bf9-55ae-49bf-d075-81f51327d4dc"
      },
      "execution_count": 18,
      "outputs": [
        {
          "output_type": "execute_result",
          "data": {
            "text/plain": [
              "is_canceled                       0\n",
              "lead_time                         0\n",
              "stays_in_weekend_nights           0\n",
              "stays_in_week_nights              0\n",
              "is_repeated_guest                 0\n",
              "previous_cancellations            0\n",
              "previous_bookings_not_canceled    0\n",
              "booking_changes                   0\n",
              "days_in_waiting_list              0\n",
              "adr                               0\n",
              "dtype: int64"
            ]
          },
          "metadata": {},
          "execution_count": 18
        }
      ]
    },
    {
      "cell_type": "markdown",
      "source": [
        "(3) 데이터 질을 향상시킬 수 있는 방법을 제안하시오.\n",
        "\n",
        "IQR 방식으로 lead_time 변수의 이상치를 보정해주어 극단적인 값을 제거함으로써 모델에 특정 값이 영향을 주는 경우를 방지한다. 또는 is_repeated_guest 변수에서 [1]에 해당하는 데이터를 더 수집해 해당 변수의 불균형을 해소한다."
      ],
      "metadata": {
        "id": "p2R5YU_YlEy0"
      }
    },
    {
      "cell_type": "code",
      "source": [
        "import seaborn as sns\n",
        "import matplotlib.pyplot as plt\n",
        "from matplotlib import font_manager, rc\n",
        "# font_path=\"C:/Windows/Fonts/Arial.TTF\"\n",
        "# font = font_manager.FontProperties(fname =font_path).get_name()\n",
        "# rc('font', family =font)\n",
        "sns.countplot(x='is_canceled', data =hotel_nonull)\n",
        "plt.title('imbalanced data visualization', fontsize =14)\n",
        "plt.show()\n",
        "ratio0 = round(len(hotel_nonull[hotel_nonull['is_canceled'] ==0])/len (hotel_nonull)*100, 2)\n",
        "ratio1 = round(len(hotel_nonull[hotel_nonull['is_canceled']==1])/len (hotel_nonull)*100, 2)\n",
        "print('0 비율: %'.format(ratio0))\n",
        "print('1 비율: %'.format(ratio1))"
      ],
      "metadata": {
        "colab": {
          "base_uri": "https://localhost:8080/",
          "height": 509
        },
        "id": "RzM08v2hjoNB",
        "outputId": "2e48f831-06f2-4a0a-f596-2234b94afe54"
      },
      "execution_count": 25,
      "outputs": [
        {
          "output_type": "display_data",
          "data": {
            "text/plain": [
              "<Figure size 640x480 with 1 Axes>"
            ],
            "image/png": "[encoded data removed]"
          },
          "metadata": {}
        },
        {
          "output_type": "stream",
          "name": "stdout",
          "text": [
            "0 비율: %\n",
            "1 비율: %\n"
          ]
        }
      ]
    },
    {
      "cell_type": "markdown",
      "source": [
        "\n",
        "s_canceled 변수는 0과 1로 구성된 binary 형태의 데이터이다. 0인 데이터와 1인 데이터가 각각 88:12 의 비율이므로, 0인 데이터가 전체 데이터의 90% 가까이 차지한다. 0인 관측값 수와 1인 관측값 수가 균등하게 분포하지 않기 때문에 해당 데이터는 불균형한 데이터(Imbalanced Data)이다."
      ],
      "metadata": {
        "id": "4FEHf208nd7L"
      }
    },
    {
      "cell_type": "markdown",
      "source": [
        "(5) 오버 샘플링 기법을 설명하고 비교한 뒤 2개 기법을 선정하고 근거를 제시하시오.\n",
        "\n",
        "오버 샘플링 기법은 비중이 데이터를 추가로 생성해 수를 늘려 데이터 불균형을 극복하는 방식이다.\n",
        "\n",
        "소수 레이블을 가진 데이터세트를 다수 레이블을 가진 데이터세트의 수만큼 증식시켜 학습에 충분한 데이터를 확보하는 기법이다. 언더 샘플링은 데이터 손실의 문제로 인해 예측성능이 저하되는 단점이 있으므로, 일반적으로는 불균형한 데이터를 처리하는 방식으로 오버 샘플링을 사용한다.\n",
        "\n",
        "①Random Oversampling\n",
        "\n",
        "㉠ 소수 클래스에 속하는 데이터의 관측치를 복사하는 방식으로 데이터를 증식한다.\n",
        "\n",
        "㉡ 데이터를 단순 복사하는 방식이므로 기존의 데이터와 동일한 복제 데이터를 생성한다.\n",
        "\n",
        "㉢ Random Oversampling은 소수 클래스에 과적함이 발생할 가능성이 있다는 단점이 있지만, 사용방법이 간단하다는 장점이 있다.\n",
        "\n",
        "② SMOTE\n",
        "\n",
        "㉠ SMOTE는 적은 데이터세트에 있는 개별 데이터들의 K-최근접 이웃을 찾아 해당 데이터와 k 이웃들의 차이를 일정한 값으로 만들어 기존 데이터와 약간의 차이를 지닌 새로운 데이터를 생성하는 방식이다.\n",
        "\n",
        "㉡ SMOTE는 Resampling 방식보다 처리 속도가 느리다는 단점이 있지만, 데이터를 단순히 동일하게 증식시키는 방식이 아니기 때문에, 과적합 문제를 예방할 수 있다는 장점이 있다."
      ],
      "metadata": {
        "id": "3ybkqAqonmur"
      }
    },
    {
      "cell_type": "markdown",
      "source": [
        "(6) 기법을 선정한 이유를 작성하고, 원데이터를 포함해 3개의 데이터 세트를 구성하시오.\n",
        "\n",
        "오버 샘플링 방식으로 Random Oversampling과 SMOTE를 선택한다. 그 이유는 Random Oversampling은 간단한 방식으로 데이터 불균형 문제를 해결할 수 있기 때문이다. SMOTE는 데이터를 생성할 때 과적합 문제를 방지할 수 있다는 점에서 선택하였다."
      ],
      "metadata": {
        "id": "ljutkO6joZVh"
      }
    },
    {
      "cell_type": "code",
      "source": [
        "#먼저 hotel_null 데이터의 object 형태 변수를 one_hot_encoding함\n",
        "hotel_nonull=pd.get_dummies (hotel_nonull)\n",
        "from imblearn.over_sampling import RandomOverSampler, SMOTE\n",
        "import time\n",
        "#원본데이터 (hotel_nonull)\n",
        "X = hotel_nonull[hotel_nonull.columns.difference (['is_canceled'])]\n",
        "y = hotel_nonull['is_canceled']\n",
        "start = time.time() #시작 시간 저장\n",
        "# Random Oversampling\n",
        "ros = RandomOverSampler(random_state =42)\n",
        "X_ro, y_ro = ros.fit_resample(X, y)\n",
        "print(\"time\", time.time() - start) #현재시각 - 시작시간 = 실행 시간"
      ],
      "metadata": {
        "colab": {
          "base_uri": "https://localhost:8080/"
        },
        "id": "GdFXTog1mWpK",
        "outputId": "6e7eaa81-0871-4cb1-988c-28d9606cd367"
      },
      "execution_count": 27,
      "outputs": [
        {
          "output_type": "stream",
          "name": "stdout",
          "text": [
            "time 0.02041792869567871\n"
          ]
        }
      ]
    },
    {
      "cell_type": "code",
      "source": [
        "start = time.time() #시작 시간 저장\n",
        "# SMOTE\n",
        "sm = SMOTE(random_state =42)\n",
        "X_sm, y_sm = ros.fit_resample(X, y)\n",
        "print(\"time\", time.time()-start) # 현재시각 - 시작시간 = 실행 시간"
      ],
      "metadata": {
        "colab": {
          "base_uri": "https://localhost:8080/"
        },
        "id": "r8hwIBD5o7MS",
        "outputId": "6c135a4b-5146-4cc9-a5ac-7f5df97fcecd"
      },
      "execution_count": 29,
      "outputs": [
        {
          "output_type": "stream",
          "name": "stdout",
          "text": [
            "time 0.03481626510620117\n"
          ]
        }
      ]
    },
    {
      "cell_type": "code",
      "source": [
        "# (7) 오버 샘플링 데이터와 원데이터를 사용해 정확도 측면 모델 하나와 속도 측면의 모델 하나를 선정하고, 그 이유를 설명하시오.\n",
        "\n",
        "from sklearn.model_selection import train_test_split\n",
        "from sklearn.ensemble import RandomForestClassifier\n",
        "from sklearn.metrics import classification_report\n",
        "\n",
        "start = time.time() # 시작 시간 저장\n",
        "X_train, X_test, y_train, y_test = train_test_split(X, y, test_size =0.2, stratify =y, random_state =100)\n",
        "clf = RandomForestClassifier (n_estimators =100, min_samples_split =10)\n",
        "clf.fit(X_train, y_train)\n",
        "print('train 정확도 :', clf.score(X_train,y_train), 'Wn')\n",
        "pred=clf.predict(X_test)\n",
        "print(classification_report(y_test, pred))\n",
        "print(\"time\", time.time() - start) #현재시각 - 시작시간 = 실행 시간"
      ],
      "metadata": {
        "colab": {
          "base_uri": "https://localhost:8080/"
        },
        "id": "hCCazVhLpSdm",
        "outputId": "ca316854-48bb-4a86-b518-ee329fa69020"
      },
      "execution_count": 33,
      "outputs": [
        {
          "output_type": "stream",
          "name": "stdout",
          "text": [
            "train 정확도 : 0.929982495623906 Wn\n",
            "              precision    recall  f1-score   support\n",
            "\n",
            "           0       0.92      1.00      0.95      3519\n",
            "           1       0.92      0.33      0.48       480\n",
            "\n",
            "    accuracy                           0.92      3999\n",
            "   macro avg       0.92      0.66      0.72      3999\n",
            "weighted avg       0.92      0.92      0.90      3999\n",
            "\n",
            "time 3.8519186973571777\n"
          ]
        }
      ]
    },
    {
      "cell_type": "code",
      "source": [
        "start = time.time() #시작 시간 저장\n",
        "X_ro_train, X_ro_test, y_ro_train, y_ro_test = train_test_split(X_ro, y_ro, test_size =0.2, stratify =y_ro, random_state =100)\n",
        "clf_ro = RandomForestClassifier (n_estimators =100, min_samples_split=10, random_state =100)\n",
        "clf_ro.fit(X_ro_train, y_ro_train)\n",
        "print('train 정확도 :', clf_ro.score(X_ro_train, y_ro_train), 'Wn')\n",
        "pred_ro=clf_ro.predict(X_ro_test)\n",
        "print(classification_report(y_ro_test, pred_ro))\n",
        "print(\"time\", time.time()-start) #현재시각 - 시작시간 = 실행 시간"
      ],
      "metadata": {
        "colab": {
          "base_uri": "https://localhost:8080/"
        },
        "id": "N-48PZ8Kqxuk",
        "outputId": "80f5e373-8640-48c3-aca7-04340f2c9393"
      },
      "execution_count": 35,
      "outputs": [
        {
          "output_type": "stream",
          "name": "stdout",
          "text": [
            "train 정확도 : 0.9839087809036658 Wn\n",
            "              precision    recall  f1-score   support\n",
            "\n",
            "           0       0.97      0.92      0.95      3519\n",
            "           1       0.93      0.98      0.95      3519\n",
            "\n",
            "    accuracy                           0.95      7038\n",
            "   macro avg       0.95      0.95      0.95      7038\n",
            "weighted avg       0.95      0.95      0.95      7038\n",
            "\n",
            "time 8.871901035308838\n"
          ]
        }
      ]
    },
    {
      "cell_type": "code",
      "source": [
        "start = time.time() # 시작 시간 저장\n",
        "X_sm_train, X_sm_test, y_sm_train, y_sm_test = train_test_split(X_sm, y_sm, test_size =0.2, stratify =y_sm, random_state =100)\n",
        "clf_sm = RandomForestClassifier(n_estimators =100, min_samples_split=10, random_state =100)\n",
        "clf_sm.fit(X_sm_train, y_sm_train)\n",
        "print('train 정확도 :', clf_sm.score (X_sm_train, y_sm_train), '\\n')\n",
        "pred_sm=clf_sm.predict(X_sm_test)\n",
        "print (classification_report(y_sm_test, pred_sm))\n",
        "print(\"time\", time.time() - start) #현재시각 - 시작시간 = 실행 시간"
      ],
      "metadata": {
        "colab": {
          "base_uri": "https://localhost:8080/"
        },
        "id": "yDAiL8TOpwly",
        "outputId": "1a9ee328-e790-43bc-f79f-d54f21152494"
      },
      "execution_count": 34,
      "outputs": [
        {
          "output_type": "stream",
          "name": "stdout",
          "text": [
            "train 정확도 : 0.9839087809036658 \n",
            "\n",
            "              precision    recall  f1-score   support\n",
            "\n",
            "           0       0.97      0.92      0.95      3519\n",
            "           1       0.93      0.98      0.95      3519\n",
            "\n",
            "    accuracy                           0.95      7038\n",
            "   macro avg       0.95      0.95      0.95      7038\n",
            "weighted avg       0.95      0.95      0.95      7038\n",
            "\n",
            "time 8.630611658096313\n"
          ]
        }
      ]
    },
    {
      "cell_type": "code",
      "source": [
        "raw = 0 +1.7477023601531982\n",
        "ro = 0.03391218185424805+3.019350051879883\n",
        "sm = 0.0389096736907959+3.2345712184906006\n",
        "print(\"원본 데이터세트의 모델링 수행속도 :\",'Wt', raw)\n",
        "print(\"RO 데이터세트의 모델링 수행속도 :\", 'Wt', ro)\n",
        "print(\"SMOTE 데이터세트의 모델링 수행속도 :\", 'Wt', sm)"
      ],
      "metadata": {
        "colab": {
          "base_uri": "https://localhost:8080/"
        },
        "id": "1x86YEFyqafN",
        "outputId": "25780f2b-ab85-4fb8-9d9a-c750e38ab73d"
      },
      "execution_count": 37,
      "outputs": [
        {
          "output_type": "stream",
          "name": "stdout",
          "text": [
            "원본 데이터세트의 모델링 수행속도 : Wt 1.7477023601531982\n",
            "RO 데이터세트의 모델링 수행속도 : Wt 3.053262233734131\n",
            "SMOTE 데이터세트의 모델링 수행속도 : Wt 3.2734808921813965\n"
          ]
        }
      ]
    },
    {
      "cell_type": "markdown",
      "source": [
        "정확도 측면에서는 SMOTE를 속도 측면에서는 Random Oversampling를 선정한다. 정확도 측면에\n",
        "서 SMOTE가 우수하다. train score와 test데이터세트의 성능이 세 가지 데이터세트 가운데 가장 우\n",
        "수하기 때문이다. 속도 측면에서는 원본 데이터세트의 모델링 수행속도가 가장 빠르지만, 이는 원본\n",
        "데이터가 오버 샘플링 데이터들에 비해 사이즈가 작기 때문이다. 이 점을 감안한다면 Random\n",
        "Oversampling 방식의 모델링 수행속도가 SMOTE보다 빠르기 때문에, Random Oversamping 방식\n",
        "이 속도 측면에서 우수하다."
      ],
      "metadata": {
        "id": "5AVjcxw_rmCV"
      }
    },
    {
      "cell_type": "markdown",
      "source": [
        "(8) 원데이터와 오버 샘플링 데이터를 가지고 각각 분류한 결과를 바탕으로, 오버 샘플링이 성능에 미친 영향에 대해 작성하시오.\n",
        "\n",
        "원본 데이터로 랜덤포레스트 분류 예측을 수행했을 때, train score는 95%의 정확도를 가진다. 오버\n",
        "샘플링 데이터로 동일한 분류 알고리즘을 수행하면, train score는 98%의 정확도를 가진다. 학습 단계에서는 두 방식 모두 높은 정확도를 보여준다.\n",
        "\n",
        "하지만, test 데이터로 모델의 최종 성능을 비교해보면 오버 샘플링이 분석 정확도에 긍정적인 영향을 주었다는 것을 알 수 있다. 특히 오버 샘플링은 데이터의 불균형으로 인한 과적합을 방지하고, 예측모델의 일반화를 가능하게 했다는 점에서 영향을 주었다.\n",
        "\n",
        "원본데이터의 test 데이터로 측정한 모델 성능은 Macro Average가 72%, Weigted Average가 90%이다. 이는 train score보다 낮은 수치이므로 데이터 학습 시 불균형 문제로 인해 과적합이 발생했다는 것을 알 수 있다. 이처럼 불균형한 데이터로 학습한 예측모델은 일반화에 어려움이 있다.\n",
        "\n",
        "오버 샘플링 데이터의 test 데이터로 측정한 모델의 성능은 Macro Avage가 95%, Weighted Average가 95%이다. 이는 train score와 비슷한 수치이므로 데이터 학습 시 과적합이 발생하지 않았\n",
        "다는 것을 알 수 있다.\n",
        "\n",
        "데이터의 불균형 문제를 전처리 과정에서 극복했기 때문이다. 따라서 오버 샘플링 처리를 한 예측모델은 일반화가 가능하다고 판단되므로 실제 분석환경에서 사용할 수 있다."
      ],
      "metadata": {
        "id": "Srj-zp9ZrwjM"
      }
    },
    {
      "cell_type": "code",
      "source": [],
      "metadata": {
        "id": "CM0Fwx0cr7Rv"
      },
      "execution_count": null,
      "outputs": []
    }
  ]
}